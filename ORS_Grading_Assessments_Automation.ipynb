{
  "nbformat": 4,
  "nbformat_minor": 0,
  "metadata": {
    "colab": {
      "provenance": [],
      "collapsed_sections": [
        "wosBFFwkGR-6",
        "AA7XltctFh19",
        "zHrGO82sICao"
      ],
      "authorship_tag": "ABX9TyMjj4yOBNvGIIFfKw8xj5n+",
      "include_colab_link": true
    },
    "kernelspec": {
      "name": "python3",
      "display_name": "Python 3"
    },
    "language_info": {
      "name": "python"
    }
  },
  "cells": [
    {
      "cell_type": "markdown",
      "metadata": {
        "id": "view-in-github",
        "colab_type": "text"
      },
      "source": [
        "<a href=\"https://colab.research.google.com/github/kchenTTP/ors_test_grading_automation/blob/main/ORS_Grading_Assessments_Automation.ipynb\" target=\"_parent\"><img src=\"https://colab.research.google.com/assets/colab-badge.svg\" alt=\"Open In Colab\"/></a>"
      ]
    },
    {
      "cell_type": "markdown",
      "source": [
        "# ORS Assessment Test Automatic Grader\n",
        "Automate grading assessment tests and output a report in excel format\n",
        "\n",
        "**Requirments**\n",
        "1. Get the correct answers of the assessment\n",
        "1. Filter by student (also filter by datetime for current cohort)\n",
        "1. Find the pre-class assessment\n",
        "1. Find the post-class assessment\n",
        "1. Find reattempts of tests\n",
        "1. Show only answers of the questions students get wrong\n",
        "1. Transpose from wide data to long data\n",
        "  1. Column: Attempts (labels: pre-class test, post-class test, reattempts)\n",
        "  1. Row: Scores, Questions 1 - 20\n",
        "1. Save into `.xlsx` file\n",
        "\n",
        "**Tasks**\n",
        "- Provide dataset of the students (`.csv` or google sheets api)\n",
        "- Provide student names"
      ],
      "metadata": {
        "id": "z9G9WkkelNOR"
      }
    },
    {
      "cell_type": "markdown",
      "source": [
        "## Install Required Libraries & Import"
      ],
      "metadata": {
        "id": "aGcIBhPHxZGD"
      }
    },
    {
      "cell_type": "code",
      "source": [
        "!pip install weasyprint"
      ],
      "metadata": {
        "id": "ewxgeGRTpEkL"
      },
      "execution_count": null,
      "outputs": []
    },
    {
      "cell_type": "code",
      "source": [
        "import pandas as pd\n",
        "import numpy as np\n",
        "from weasyprint import HTML, CSS"
      ],
      "metadata": {
        "id": "dHFgcwlrpCpY"
      },
      "execution_count": null,
      "outputs": []
    },
    {
      "cell_type": "markdown",
      "source": [
        "## Create Folders & Upload Files\n",
        "- Assessment test responses `.csv` file from this [link](https://drive.google.com/drive/folders/142C-KrYeCN2GnEUiyou6cvDYIOyOWKkt?usp=drive_link)\n",
        "\n",
        "- Student information from this [link](https://nyplorg-my.sharepoint.com/:x:/g/personal/kangchen_nypl_org/EVcsHhpkqM9Fteg3pnvZBZoBRawkm43iJZF-3YE5hgRyCA?email=kangchen%40nypl.org&e=l5Vz5w)"
      ],
      "metadata": {
        "id": "yKCXKn-lxs_I"
      }
    },
    {
      "cell_type": "code",
      "source": [
        "!mkdir data output"
      ],
      "metadata": {
        "id": "KLboTKHkxsKm"
      },
      "execution_count": null,
      "outputs": []
    },
    {
      "cell_type": "markdown",
      "source": [
        "## Set Variables"
      ],
      "metadata": {
        "id": "hoMC3cJkLFqK"
      }
    },
    {
      "cell_type": "code",
      "source": [
        "test_dates =['2023-09-16', '2023-10-14']\n",
        "test_dates = [pd.to_datetime(date) for date in test_dates]\n",
        "program = 'word'"
      ],
      "metadata": {
        "id": "0ln4S17ULJTh"
      },
      "execution_count": null,
      "outputs": []
    },
    {
      "cell_type": "markdown",
      "source": [
        "## Process Names"
      ],
      "metadata": {
        "id": "mlL2lXadyHIM"
      }
    },
    {
      "cell_type": "code",
      "execution_count": null,
      "metadata": {
        "id": "33B-B4EJlBUc"
      },
      "outputs": [],
      "source": [
        "# set variables\n",
        "df = pd.read_csv('./data/ors_info.csv')\n",
        "df"
      ]
    },
    {
      "cell_type": "markdown",
      "source": [
        "### Preprocess names"
      ],
      "metadata": {
        "id": "IAdqTCDy_2y8"
      }
    },
    {
      "cell_type": "code",
      "source": [
        "# drop unactive students\n",
        "df = df.loc[df.Drop != True]"
      ],
      "metadata": {
        "id": "of29XR-myVAJ"
      },
      "execution_count": null,
      "outputs": []
    },
    {
      "cell_type": "code",
      "source": [
        "student_info = df[['FirstName', 'LastName', 'Email']]"
      ],
      "metadata": {
        "id": "1COyr2eLC-fK"
      },
      "execution_count": null,
      "outputs": []
    },
    {
      "cell_type": "code",
      "source": [
        "names = df[['FirstName', 'LastName']]"
      ],
      "metadata": {
        "id": "JA7NLXbgytT8"
      },
      "execution_count": null,
      "outputs": []
    },
    {
      "cell_type": "code",
      "source": [
        "names.loc[names.FirstName == 'Eleanor', ['FirstName']] = 'E'"
      ],
      "metadata": {
        "id": "SIKfqCGwzuM9"
      },
      "execution_count": null,
      "outputs": []
    },
    {
      "cell_type": "code",
      "source": [
        "# fix error values firstname = lastname\n",
        "names.iloc[2,0] =names.iloc[2][0].split(' ')[0]\n",
        "names.iloc[2,1] =names.iloc[2][1].split(' ')[1]"
      ],
      "metadata": {
        "id": "dHuJ6_A7_S-g"
      },
      "execution_count": null,
      "outputs": []
    },
    {
      "cell_type": "code",
      "source": [
        "names.FirstName = names.FirstName.str.lower().str.strip()\n",
        "names.LastName = names.LastName.str.lower().str.replace(' ', '')"
      ],
      "metadata": {
        "id": "YmCMvDXg_-A_"
      },
      "execution_count": null,
      "outputs": []
    },
    {
      "cell_type": "code",
      "source": [
        "fullnames = pd.DataFrame(names.FirstName + ' ' + names.LastName, columns=['fullname'])"
      ],
      "metadata": {
        "id": "eW98dicPG4Yr"
      },
      "execution_count": null,
      "outputs": []
    },
    {
      "cell_type": "code",
      "source": [
        "fullnames"
      ],
      "metadata": {
        "id": "fYOs5JfO0JAZ"
      },
      "execution_count": null,
      "outputs": []
    },
    {
      "cell_type": "markdown",
      "source": [
        "## Process Responses"
      ],
      "metadata": {
        "id": "E1_4QCrfAQgX"
      }
    },
    {
      "cell_type": "code",
      "source": [
        "assess_df = pd.read_csv('./data/ORS_Word_Assessment_Responses.csv')\n",
        "assess_df.info()"
      ],
      "metadata": {
        "id": "PetkABQO0Pw4"
      },
      "execution_count": null,
      "outputs": []
    },
    {
      "cell_type": "code",
      "source": [
        "# rename columns\n",
        "col_names_to_replace = list(assess_df.columns)\n",
        "col_names = ['timestamp', 'email', 'score', 'firstname', 'lastname']\n",
        "\n",
        "for i in range(1,21):\n",
        "  col_names.append(f'Q{i}')\n",
        "\n",
        "col_mapper = dict.fromkeys(col_names_to_replace)\n",
        "for i, col in enumerate(col_names_to_replace):\n",
        "  col_mapper[col] = col_names[i]\n",
        "\n",
        "assess_df.rename(columns=col_mapper, inplace=True)"
      ],
      "metadata": {
        "id": "rC3qxKy3Lgko"
      },
      "execution_count": null,
      "outputs": []
    },
    {
      "cell_type": "markdown",
      "source": [
        "### Preprocess first and last name"
      ],
      "metadata": {
        "id": "25MnhPa8-QI9"
      }
    },
    {
      "cell_type": "code",
      "source": [
        "assess_df.firstname = assess_df.firstname.str.lower()\n",
        "assess_df.lastname = assess_df.lastname.str.lower()\n",
        "assess_df.head(5)"
      ],
      "metadata": {
        "id": "xPETQN3b-WFM"
      },
      "execution_count": null,
      "outputs": []
    },
    {
      "cell_type": "code",
      "source": [
        "# correct error values: elsa divinagracia = elsa\n",
        "assess_df.loc[(assess_df.lastname == 'wilson') & (assess_df.firstname == 'elsa divinagracia'), 'firstname'] = 'elsa'"
      ],
      "metadata": {
        "id": "zFOyg8CwGeFh"
      },
      "execution_count": null,
      "outputs": []
    },
    {
      "cell_type": "markdown",
      "source": [
        "### Get Answers"
      ],
      "metadata": {
        "id": "wosBFFwkGR-6"
      }
    },
    {
      "cell_type": "code",
      "source": [
        "answer_row = assess_df[assess_df.score == '100 / 100'].tail(1).reset_index(drop=True)\n",
        "answer_row.iloc[:,:5] = np.nan\n",
        "answer_key = answer_row.iloc[:,5:]\n",
        "answer_dict = answer_key.to_dict(orient='records')[0]"
      ],
      "metadata": {
        "id": "NDcud1iC1suR"
      },
      "execution_count": null,
      "outputs": []
    },
    {
      "cell_type": "code",
      "source": [
        "answer_dict"
      ],
      "metadata": {
        "id": "7oMaxaAt8L62"
      },
      "execution_count": null,
      "outputs": []
    },
    {
      "cell_type": "markdown",
      "source": [
        "### Get Data Base on Test Date and Student Name"
      ],
      "metadata": {
        "id": "r-ymdP-6FPhe"
      }
    },
    {
      "cell_type": "code",
      "source": [
        "# convert timestamp to datetime dtype\n",
        "assess_df.timestamp = pd.to_datetime(assess_df.timestamp, format='%m/%d/%Y %H:%M:%S', errors='coerce')"
      ],
      "metadata": {
        "id": "P3w_BxFfA-KI"
      },
      "execution_count": null,
      "outputs": []
    },
    {
      "cell_type": "code",
      "source": [
        "assess_df.info()"
      ],
      "metadata": {
        "id": "rDpwJFfX8vFn"
      },
      "execution_count": null,
      "outputs": []
    },
    {
      "cell_type": "code",
      "source": [
        "# get all tests from test dates\n",
        "all_word_assessment = assess_df[assess_df.timestamp.dt.date.isin([d.date() for d in test_dates])]"
      ],
      "metadata": {
        "id": "q8sCQoGWIoIO"
      },
      "execution_count": null,
      "outputs": []
    },
    {
      "cell_type": "code",
      "source": [
        "# check student names and test count\n",
        "all_word_assessment[all_word_assessment.firstname.isin(names.FirstName)].firstname.value_counts().sort_index()"
      ],
      "metadata": {
        "id": "cfMMNhWiOFLL"
      },
      "execution_count": null,
      "outputs": []
    },
    {
      "cell_type": "code",
      "source": [
        "# all section 4 word test data\n",
        "sect4_word_test = all_word_assessment[all_word_assessment.firstname.isin(names.FirstName)]\n",
        "sect4_word_test.reset_index(drop=True, inplace=True)"
      ],
      "metadata": {
        "id": "De2QINvrVsY9"
      },
      "execution_count": null,
      "outputs": []
    },
    {
      "cell_type": "markdown",
      "source": [
        "## Generate Excel Report"
      ],
      "metadata": {
        "id": "bo3GGf9l3zhU"
      }
    },
    {
      "cell_type": "markdown",
      "source": [
        "### Filter Incorrect Answers"
      ],
      "metadata": {
        "id": "AA7XltctFh19"
      }
    },
    {
      "cell_type": "code",
      "source": [
        "info_df = sect4_word_test.iloc[:,:5] # student info\n",
        "responses_df = sect4_word_test.iloc[:,5:] # student response\n",
        "wrong_answer_filter = responses_df != pd.concat([answer_key] * 31, ignore_index=True)\n",
        "wrong_answer_df = responses_df[wrong_answer_filter] # retain answer values that are incorrect"
      ],
      "metadata": {
        "id": "TQcEZ6mFn4Ex"
      },
      "execution_count": null,
      "outputs": []
    },
    {
      "cell_type": "code",
      "source": [
        "# final dataframe with all student information and the questions the got wrong\n",
        "final_results = pd.concat([info_df, wrong_answer_df], axis=1)"
      ],
      "metadata": {
        "id": "6fDv6VJkqTL2"
      },
      "execution_count": null,
      "outputs": []
    },
    {
      "cell_type": "code",
      "source": [
        "final_results.head(2)"
      ],
      "metadata": {
        "id": "QJWxCHehqTKH"
      },
      "execution_count": null,
      "outputs": []
    },
    {
      "cell_type": "markdown",
      "source": [
        "### Save All Results to Dictionary"
      ],
      "metadata": {
        "id": "zHrGO82sICao"
      }
    },
    {
      "cell_type": "code",
      "source": [
        "cols_to_show_list = []\n",
        "grades_dict = {}\n",
        "cols_to_drop = ['timestamp', 'email', 'score', 'firstname', 'lastname']\n",
        "\n",
        "# iterate through each row\n",
        "for i, row in final_results.iterrows():\n",
        "  cols = list(final_results.columns[row.notna()]) # columns that don't contain null values\n",
        "  cols_to_show_list.append(cols)\n",
        "\n",
        "  # student answers\n",
        "  stu_name = row.firstname.strip() + \" \" + row.lastname.strip()\n",
        "  test_time = str(row.timestamp)\n",
        "\n",
        "  # check if name exists\n",
        "  if grades_dict.get(stu_name) == None:\n",
        "    grades_dict[stu_name] = {}\n",
        "  if grades_dict[stu_name].get(test_time) == None:\n",
        "    grades_dict[stu_name][test_time] = {\n",
        "        'score': row.score.split(' / ')[0],\n",
        "        'res': pd.DataFrame(row.loc[cols]).T.drop(columns=cols_to_drop),\n",
        "        'ans': answer_row[cols].drop(columns=cols_to_drop)\n",
        "    }\n",
        "  else:\n",
        "    print(row.timestamp)"
      ],
      "metadata": {
        "id": "i4PefOkCqTAt"
      },
      "execution_count": null,
      "outputs": []
    },
    {
      "cell_type": "code",
      "source": [
        "grades_dict.keys()"
      ],
      "metadata": {
        "id": "8HD0t63aEihQ"
      },
      "execution_count": null,
      "outputs": []
    },
    {
      "cell_type": "code",
      "source": [
        "list(list(grades_dict.values())[0].values())[0]['score']"
      ],
      "metadata": {
        "id": "eyy8U-XW-jGe"
      },
      "execution_count": null,
      "outputs": []
    },
    {
      "cell_type": "code",
      "source": [
        "list(list(grades_dict.values())[0].values())[0]['res']"
      ],
      "metadata": {
        "id": "HNPl-Kgm8-p3"
      },
      "execution_count": null,
      "outputs": []
    },
    {
      "cell_type": "code",
      "source": [
        "list(list(grades_dict.values())[0].values())[0]['ans']"
      ],
      "metadata": {
        "id": "odly1zos-IlY"
      },
      "execution_count": null,
      "outputs": []
    },
    {
      "cell_type": "markdown",
      "source": [
        "### Save Results -> DataFrame -> Excel"
      ],
      "metadata": {
        "id": "ivgkuREmmyFA"
      }
    },
    {
      "cell_type": "code",
      "source": [
        "# check length of data\n",
        "names.shape[0] == final_results.firstname.value_counts().count()"
      ],
      "metadata": {
        "id": "lbvpQCMVtsej"
      },
      "execution_count": null,
      "outputs": []
    },
    {
      "cell_type": "code",
      "source": [
        "names.shape[0] == final_results.lastname.value_counts().count()"
      ],
      "metadata": {
        "id": "XVG9o6wLuFGS"
      },
      "execution_count": null,
      "outputs": []
    },
    {
      "cell_type": "code",
      "source": [
        "questions = pd.DataFrame(col_names_to_replace.copy(), index=col_names).T\n",
        "questions.iloc[0,0] = 'Questions'\n",
        "questions.iloc[:,1:5] = np.nan\n",
        "questions"
      ],
      "metadata": {
        "id": "v2v6lD9jyJBl"
      },
      "execution_count": null,
      "outputs": []
    },
    {
      "cell_type": "code",
      "source": [
        "answer_row.iloc[0,0] = 'Answers'\n",
        "answer_row"
      ],
      "metadata": {
        "id": "X94QXceF1Jq4"
      },
      "execution_count": null,
      "outputs": []
    },
    {
      "cell_type": "code",
      "source": [
        "# concat all dataframes and save as excel file\n",
        "for i, row in names.iterrows():\n",
        "  fname = row.FirstName\n",
        "  lname = row.LastName\n",
        "\n",
        "  cols = final_results.columns[final_results[final_results.firstname == fname].notna().any()]\n",
        "  report = pd.concat([questions, answer_row, final_results[final_results.firstname == fname]], axis=0).reset_index(drop=True)[cols]\n",
        "  report.fillna('-', inplace=True)\n",
        "  report.drop(columns=['email', 'firstname', 'lastname'], inplace=True)\n",
        "  report.rename(columns={'timestamp': 'Index'}, inplace=True)\n",
        "  report.set_index('Index', inplace=True)\n",
        "\n",
        "  report.to_excel(f'./output/{fname}_{lname}_{program}_report.xlsx', f'{fname}_{lname}')"
      ],
      "metadata": {
        "id": "kcRZkAlzujM2"
      },
      "execution_count": null,
      "outputs": []
    },
    {
      "cell_type": "code",
      "source": [
        "# save files\n",
        "!zip -r /content/grades.zip /content/output/\n",
        "\n",
        "from google.colab import files\n",
        "files.download(\"/content/grades.zip\")"
      ],
      "metadata": {
        "id": "vl2mC6lzwwEt"
      },
      "execution_count": null,
      "outputs": []
    },
    {
      "cell_type": "code",
      "source": [],
      "metadata": {
        "id": "PJMuJBqFo_vY"
      },
      "execution_count": null,
      "outputs": []
    }
  ]
}